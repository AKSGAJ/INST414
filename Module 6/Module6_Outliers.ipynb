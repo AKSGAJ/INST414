{
 "cells": [
  {
   "cell_type": "code",
   "execution_count": null,
   "metadata": {},
   "outputs": [],
   "source": [
    "import pandas as pd\n",
    "import numpy as np\n",
    "from sklearn.model_selection import train_test_split\n",
    "from sklearn.linear_model import LinearRegression\n",
    "from sklearn.metrics import mean_squared_error, r2_score\n",
    "import matplotlib.pyplot as plt"
   ]
  },
  {
   "cell_type": "code",
   "execution_count": null,
   "metadata": {},
   "outputs": [],
   "source": [
    "# 1. Load dataset\n",
    "df = pd.read_csv('listings.csv')\n",
    "\n",
    "# 2. Clean data\n",
    "# Remove rows where price is missing or 0\n",
    "df = df[df['price'].notnull()]\n",
    "df = df[df['price'] > 0]\n",
    "\n",
    "# Clean price column if it's a string like \"$100.00\"\n",
    "if df['price'].dtype == object:\n",
    "    df['price'] = df['price'].replace(r'[\\$,]', '', regex=True).astype(float)\n",
    "\n",
    "# Drop rows with missing values in important columns\n",
    "df = df.dropna(subset=['room_type', 'latitude', 'longitude', 'minimum_nights', 'number_of_reviews'])"
   ]
  },
  {
   "cell_type": "code",
   "execution_count": null,
   "metadata": {},
   "outputs": [],
   "source": [
    "#how many listings in each neighborhood\n",
    "# Count listings in each unique neighborhood\n",
    "neighborhood_counts = df['neighbourhood'].value_counts()\n",
    "\n",
    "# Display the counts\n",
    "print(neighborhood_counts[:10])\n"
   ]
  },
  {
   "cell_type": "code",
   "execution_count": null,
   "metadata": {},
   "outputs": [],
   "source": [
    "neighbourhood_df = df[df['neighbourhood'] == \"el Raval\"]\n",
    "#print(neighbourhood_df[:5])"
   ]
  },
  {
   "cell_type": "code",
   "execution_count": null,
   "metadata": {},
   "outputs": [],
   "source": [
    "# how many listing for each room type\n",
    "\n",
    "#counting each unique value\n",
    "room_type_count = df['room_type'].value_counts()\n",
    "\n",
    "print(room_type_count)"
   ]
  },
  {
   "cell_type": "code",
   "execution_count": null,
   "metadata": {},
   "outputs": [],
   "source": [
    "room_type_df = df[df['room_type'] == 'Entire home/apt']\n",
    "\n",
    "print(room_type_df[:5])"
   ]
  },
  {
   "cell_type": "code",
   "execution_count": null,
   "metadata": {},
   "outputs": [],
   "source": [
    "# Count a specific room type in a neighborhood\n",
    "room_nei_counts_ = neighbourhood_df['room_type'].value_counts()\n",
    "\n",
    "# Display the counts\n",
    "print(room_nei_counts_[:10])"
   ]
  },
  {
   "cell_type": "code",
   "execution_count": null,
   "metadata": {},
   "outputs": [],
   "source": [
    "neighbourhood_roomtype_df = neighbourhood_df[neighbourhood_df['room_type'] == \"Entire home/apt\"]\n",
    "\n",
    "print(neighbourhood_roomtype_df[:5])"
   ]
  },
  {
   "cell_type": "code",
   "execution_count": null,
   "metadata": {},
   "outputs": [],
   "source": [
    "# 3. One-hot encode 'room_type'\n",
    "#print(df.columns)\n",
    "\n",
    "room_dummies = pd.get_dummies(df['room_type'], prefix='room')\n",
    "df = pd.concat([df, room_dummies], axis=1)\n",
    "df.drop('room_type', axis=1, inplace=True)\n",
    "\n",
    "\n"
   ]
  },
  {
   "cell_type": "code",
   "execution_count": null,
   "metadata": {},
   "outputs": [],
   "source": [
    "print(room_dummies[:10])"
   ]
  },
  {
   "cell_type": "code",
   "execution_count": null,
   "metadata": {},
   "outputs": [],
   "source": [
    "# 4. Define features and target\n",
    "features = ['latitude', 'longitude', 'minimum_nights', 'number_of_reviews'] + list(room_dummies.columns)\n",
    "X = df[features]\n",
    "y = df['price']\n",
    "\n",
    "# 5. Split data\n",
    "X_train, X_test, y_train, y_test = train_test_split(X, y, test_size=0.2, random_state=42)\n"
   ]
  },
  {
   "cell_type": "code",
   "execution_count": null,
   "metadata": {},
   "outputs": [],
   "source": [
    "# 6. Train model\n",
    "model = LinearRegression()\n",
    "model.fit(X_train, y_train)\n",
    "\n",
    "# 7. Make predictions\n",
    "y_pred = model.predict(X_test)\n",
    "\n",
    "# 8. Evaluate model\n",
    "mse = mean_squared_error(y_test, y_pred)\n",
    "r2 = r2_score(y_test, y_pred)\n",
    "print(f\"Mean Squared Error: {mse:.2f}\")\n",
    "print(f\"R^2 Score: {r2:.2f}\")"
   ]
  },
  {
   "cell_type": "code",
   "execution_count": null,
   "metadata": {},
   "outputs": [],
   "source": [
    "# Scatter plot using Matplotlib\n",
    "plt.figure(figsize=(10, 6))\n",
    "plt.scatter(y_test, y_pred, alpha=0.7, color='teal')\n",
    "plt.xlabel(\"Actual Prices\")\n",
    "plt.ylabel(\"Predicted Prices\")\n",
    "plt.title(\"Actual vs Predicted Airbnb Prices\")\n",
    "plt.grid(True)\n",
    "plt.show()\n",
    "\n"
   ]
  },
  {
   "cell_type": "code",
   "execution_count": null,
   "metadata": {},
   "outputs": [],
   "source": [
    "# 9. Analyze errors\n",
    "error_df = X_test.copy()\n",
    "error_df['Actual Price'] = y_test\n",
    "error_df['Predicted Price'] = y_pred\n",
    "error_df['Error'] = abs(error_df['Actual Price'] - error_df['Predicted Price'])\n",
    "top_5_errors = error_df.sort_values(by='Error', ascending=False).head(5)\n",
    "print(\"\\nTop 5 Wrong Predictions:\")\n",
    "print(top_5_errors[['Actual Price', 'Predicted Price', 'Error']])"
   ]
  },
  {
   "cell_type": "code",
   "execution_count": null,
   "metadata": {},
   "outputs": [],
   "source": [
    "\n",
    "#This next part is the samething but filtered by neighborhood"
   ]
  },
  {
   "cell_type": "code",
   "execution_count": null,
   "metadata": {},
   "outputs": [],
   "source": [
    "# One-hot encode room_type neighbourhood_df = df_outliers[df_outliers['neighbourhood'] == \"la Dreta de l'Eixample\"]\n",
    "room_dummies = pd.get_dummies(neighbourhood_df['room_type'], prefix='room')\n",
    "\n",
    "# Concatenate the dummies with the original DataFrame\n",
    "neighbourhood_df = pd.concat([neighbourhood_df, room_dummies], axis=1)\n"
   ]
  },
  {
   "cell_type": "code",
   "execution_count": null,
   "metadata": {},
   "outputs": [],
   "source": [
    "# Define features and target\n",
    "feature_cols = ['number_of_reviews', 'minimum_nights', 'availability_365',\n",
    "                'room_Entire home/apt', 'room_Private room', 'room_Shared room', 'room_Hotel room']\n",
    "\n",
    "X = neighbourhood_df[feature_cols]\n",
    "y = neighbourhood_df['price']\n",
    "\n",
    "# 5. Split data\n",
    "X_train, X_test, y_train, y_test = train_test_split(X, y, test_size=0.2, random_state=42)\n",
    "\n",
    "# 6. Train model\n",
    "model = LinearRegression()\n",
    "model.fit(X_train, y_train)\n",
    "\n",
    "# 7. Make predictions\n",
    "y_pred = model.predict(X_test)"
   ]
  },
  {
   "cell_type": "code",
   "execution_count": null,
   "metadata": {},
   "outputs": [],
   "source": [
    "# 8. Evaluate model\n",
    "mse = mean_squared_error(y_test, y_pred)\n",
    "r2 = r2_score(y_test, y_pred)\n",
    "print(f\"Mean Squared Error: {mse:.2f}\")\n",
    "print(f\"R^2 Score: {r2:.2f}\")"
   ]
  },
  {
   "cell_type": "code",
   "execution_count": null,
   "metadata": {},
   "outputs": [],
   "source": [
    "# Scatter plot using Matplotlib\n",
    "plt.figure(figsize=(10, 6))\n",
    "plt.scatter(y_test, y_pred, alpha=0.7, color='teal')\n",
    "plt.xlabel(\"Actual Prices\")\n",
    "plt.ylabel(\"Predicted Prices\")\n",
    "#plt.xlim(0, 400)  \n",
    "#plt.ylim(0, 300)\n",
    "plt.title(\"Actual vs Predicted Airbnb Prices\")\n",
    "plt.grid(True)\n",
    "plt.show()"
   ]
  },
  {
   "cell_type": "code",
   "execution_count": null,
   "metadata": {},
   "outputs": [],
   "source": [
    "# 9. Analyze errors\n",
    "error_df = X_test.copy()\n",
    "error_df['Actual Price'] = y_test\n",
    "error_df['Predicted Price'] = y_pred\n",
    "error_df['Error'] = abs(error_df['Actual Price'] - error_df['Predicted Price'])\n",
    "top_5_errors = error_df.sort_values(by='Error', ascending=False).head(5)\n",
    "print(\"\\nTop 5 Wrong Predictions:\")\n",
    "print(top_5_errors[['Actual Price', 'Predicted Price', 'Error']])"
   ]
  },
  {
   "cell_type": "code",
   "execution_count": null,
   "metadata": {},
   "outputs": [],
   "source": [
    "#this is looking at each room type"
   ]
  },
  {
   "cell_type": "code",
   "execution_count": null,
   "metadata": {},
   "outputs": [],
   "source": [
    "# 4. Define features and target\n",
    "features = ['number_of_reviews', 'minimum_nights', 'availability_365']\n",
    "X = room_type_df[features]\n",
    "y = room_type_df['price']\n",
    "\n",
    "# 5. Split data\n",
    "X_train, X_test, y_train, y_test = train_test_split(X, y, test_size=0.2, random_state=42)\n",
    "\n",
    "# 6. Train model\n",
    "model = LinearRegression()\n",
    "model.fit(X_train, y_train)\n",
    "\n",
    "# 7. Make predictions\n",
    "y_pred = model.predict(X_test)"
   ]
  },
  {
   "cell_type": "code",
   "execution_count": null,
   "metadata": {},
   "outputs": [],
   "source": [
    "# 8. Evaluate model\n",
    "mse = mean_squared_error(y_test, y_pred)\n",
    "r2 = r2_score(y_test, y_pred)\n",
    "print(f\"Mean Squared Error: {mse:.2f}\")\n",
    "print(f\"R^2 Score: {r2:.2f}\")"
   ]
  },
  {
   "cell_type": "code",
   "execution_count": null,
   "metadata": {},
   "outputs": [],
   "source": [
    "# Scatter plot using Matplotlib\n",
    "plt.figure(figsize=(10, 6))\n",
    "plt.scatter(y_test, y_pred, alpha=0.7, color='teal')\n",
    "plt.xlabel(\"Actual Prices\")\n",
    "plt.ylabel(\"Predicted Prices\")\n",
    "#plt.xlim(0, 400)  \n",
    "#plt.ylim(0, 300)\n",
    "plt.title(\"Actual vs Predicted Airbnb Prices\")\n",
    "plt.grid(True)\n",
    "plt.show()"
   ]
  },
  {
   "cell_type": "code",
   "execution_count": null,
   "metadata": {},
   "outputs": [],
   "source": [
    "# 9. Analyze errors\n",
    "error_df = X_test.copy()\n",
    "error_df['Actual Price'] = y_test\n",
    "error_df['Predicted Price'] = y_pred\n",
    "error_df['Error'] = abs(error_df['Actual Price'] - error_df['Predicted Price'])\n",
    "top_5_errors = error_df.sort_values(by='Error', ascending=False).head(5)\n",
    "print(\"\\nTop 5 Wrong Predictions:\")\n",
    "print(top_5_errors[['Actual Price', 'Predicted Price', 'Error']])"
   ]
  },
  {
   "cell_type": "code",
   "execution_count": null,
   "metadata": {},
   "outputs": [],
   "source": [
    "#This time it is filtered by neighborhood and room type\n"
   ]
  },
  {
   "cell_type": "code",
   "execution_count": null,
   "metadata": {},
   "outputs": [],
   "source": [
    "# Define features and target\n",
    "feature_cols = ['number_of_reviews', 'minimum_nights', 'availability_365']\n",
    "\n",
    "X = neighbourhood_roomtype_df[feature_cols]\n",
    "y = neighbourhood_roomtype_df['price']\n",
    "\n",
    "# 5. Split data\n",
    "X_train, X_test, y_train, y_test = train_test_split(X, y, test_size=0.2, random_state=42)\n",
    "\n",
    "# 6. Train model\n",
    "model = LinearRegression()\n",
    "model.fit(X_train, y_train)\n",
    "\n",
    "# 7. Make predictions\n",
    "y_pred = model.predict(X_test)"
   ]
  },
  {
   "cell_type": "code",
   "execution_count": null,
   "metadata": {},
   "outputs": [],
   "source": [
    "# 8. Evaluate model\n",
    "mse = mean_squared_error(y_test, y_pred)\n",
    "r2 = r2_score(y_test, y_pred)\n",
    "print(f\"Mean Squared Error: {mse:.2f}\")\n",
    "print(f\"R^2 Score: {r2:.2f}\")"
   ]
  },
  {
   "cell_type": "code",
   "execution_count": null,
   "metadata": {},
   "outputs": [],
   "source": [
    "# Scatter plot using Matplotlib\n",
    "plt.figure(figsize=(10, 6))\n",
    "plt.scatter(y_test, y_pred, alpha=0.7, color='teal')\n",
    "plt.xlabel(\"Actual Prices\")\n",
    "plt.ylabel(\"Predicted Prices\")\n",
    "#plt.xlim(0, 400)  \n",
    "#plt.ylim(0, 300)\n",
    "plt.title(\"Actual vs Predicted Airbnb Prices\")\n",
    "plt.grid(True)\n",
    "plt.show()"
   ]
  },
  {
   "cell_type": "code",
   "execution_count": null,
   "metadata": {},
   "outputs": [],
   "source": [
    "# 9. Analyze errors\n",
    "error_df = X_test.copy()\n",
    "error_df['Actual Price'] = y_test\n",
    "error_df['Predicted Price'] = y_pred\n",
    "error_df['Error'] = abs(error_df['Actual Price'] - error_df['Predicted Price'])\n",
    "top_5_errors = error_df.sort_values(by='Error', ascending=False).head(50)\n",
    "print(\"\\nTop 5 Wrong Predictions:\")\n",
    "print(top_5_errors[['Actual Price', 'Predicted Price', 'Error']])"
   ]
  }
 ],
 "metadata": {
  "kernelspec": {
   "display_name": "Python 3",
   "language": "python",
   "name": "python3"
  },
  "language_info": {
   "codemirror_mode": {
    "name": "ipython",
    "version": 3
   },
   "file_extension": ".py",
   "mimetype": "text/x-python",
   "name": "python",
   "nbconvert_exporter": "python",
   "pygments_lexer": "ipython3",
   "version": "3.13.2"
  }
 },
 "nbformat": 4,
 "nbformat_minor": 2
}
